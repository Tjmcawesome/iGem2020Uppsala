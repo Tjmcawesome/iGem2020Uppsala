{
 "cells": [
  {
   "cell_type": "code",
   "execution_count": 1,
   "metadata": {
    "colab": {
     "base_uri": "https://localhost:8080/",
     "height": 245
    },
    "colab_type": "code",
    "id": "Mlfmy5hIKmth",
    "outputId": "35a6def9-dc2b-4e8f-a0d9-1f8a1c0529d5"
   },
   "outputs": [
    {
     "name": "stdout",
     "output_type": "stream",
     "text": [
      "Collecting PySCeS\n",
      "  Using cached pysces-0.9.8.post1-cp38-cp38-macosx_10_13_x86_64.whl (1.5 MB)\n",
      "Collecting numpy\n",
      "  Using cached numpy-1.19.1-cp38-cp38-macosx_10_9_x86_64.whl (15.3 MB)\n",
      "Collecting scipy\n",
      "  Using cached scipy-1.5.2-cp38-cp38-macosx_10_9_x86_64.whl (28.9 MB)\n",
      "Collecting python-libsbml\n",
      "  Using cached python_libsbml-5.18.0-cp38-cp38-macosx_10_9_x86_64.whl (6.6 MB)\n",
      "Collecting nose\n",
      "  Using cached nose-1.3.7-py3-none-any.whl (154 kB)\n",
      "Collecting matplotlib\n",
      "  Using cached matplotlib-3.3.1-cp38-cp38-macosx_10_9_x86_64.whl (8.5 MB)\n",
      "Collecting kiwisolver>=1.0.1\n",
      "  Using cached kiwisolver-1.2.0-cp38-cp38-macosx_10_9_x86_64.whl (60 kB)\n",
      "Requirement already satisfied: python-dateutil>=2.1 in /Users/sebastianmoes/.pyenv/versions/3.8.2/lib/python3.8/site-packages (from matplotlib->PySCeS) (2.8.1)\n",
      "Requirement already satisfied: pyparsing!=2.0.4,!=2.1.2,!=2.1.6,>=2.0.3 in /Users/sebastianmoes/.pyenv/versions/3.8.2/lib/python3.8/site-packages (from matplotlib->PySCeS) (2.4.7)\n",
      "Collecting certifi>=2020.06.20\n",
      "  Using cached certifi-2020.6.20-py2.py3-none-any.whl (156 kB)\n",
      "Collecting pillow>=6.2.0\n",
      "  Using cached Pillow-7.2.0-cp38-cp38-macosx_10_10_x86_64.whl (2.2 MB)\n",
      "Collecting cycler>=0.10\n",
      "  Using cached cycler-0.10.0-py2.py3-none-any.whl (6.5 kB)\n",
      "Requirement already satisfied: six>=1.5 in /Users/sebastianmoes/.pyenv/versions/3.8.2/lib/python3.8/site-packages (from python-dateutil>=2.1->matplotlib->PySCeS) (1.15.0)\n",
      "Installing collected packages: numpy, scipy, python-libsbml, nose, kiwisolver, certifi, pillow, cycler, matplotlib, PySCeS\n",
      "Successfully installed PySCeS-0.9.8.post1 certifi-2020.6.20 cycler-0.10.0 kiwisolver-1.2.0 matplotlib-3.3.1 nose-1.3.7 numpy-1.19.1 pillow-7.2.0 python-libsbml-5.18.0 scipy-1.5.2\n",
      "Collecting stochpy\n",
      "  Using cached StochPy-23.tar.gz (279 kB)\n",
      "Using legacy 'setup.py install' for stochpy, since package 'wheel' is not installed.\n",
      "Installing collected packages: stochpy\n",
      "    Running setup.py install for stochpy ... \u001b[?25ldone\n",
      "\u001b[?25hSuccessfully installed stochpy-2.3\n"
     ]
    }
   ],
   "source": [
    "!pip install PySCeS\n",
    "!pip install stochpy"
   ]
  },
  {
   "cell_type": "code",
   "execution_count": 2,
   "metadata": {
    "colab": {},
    "colab_type": "code",
    "id": "hV6a65jvKu8V"
   },
   "outputs": [
    {
     "name": "stdout",
     "output_type": "stream",
     "text": [
      "\n",
      "#######################################################################\n",
      "#                                                                     #\n",
      "#            Welcome to the interactive StochPy environment           #\n",
      "#                                                                     #\n",
      "#######################################################################\n",
      "#  StochPy: Stochastic modeling in Python                             #\n",
      "#  http://stochpy.sourceforge.net                                     #\n",
      "#  Copyright(C) T.R Maarleveld, B.G. Olivier, F.J Bruggeman 2010-2015 #\n",
      "#  DOI: 10.1371/journal.pone.0079345                                  #\n",
      "#  Email: tmd200@users.sourceforge.net                                #\n",
      "#  VU University, Amsterdam, Netherlands                              #\n",
      "#  Centrum Wiskunde Informatica, Amsterdam, Netherlands               #\n",
      "#  StochPy is distributed under the BSD licence.                      #\n",
      "#######################################################################\n",
      "\n",
      "Version 2.3.0\n",
      "Output Directory: /Users/sebastianmoes/Stochpy\n",
      "Model Directory: /Users/sebastianmoes/Stochpy/pscmodels\n"
     ]
    }
   ],
   "source": [
    "import stochpy"
   ]
  },
  {
   "cell_type": "code",
   "execution_count": 3,
   "metadata": {
    "colab": {},
    "colab_type": "code",
    "id": "cL0c_nHIKZZ4"
   },
   "outputs": [],
   "source": [
    "def doSequentialSim(smod,n_generations,cell_division_times):    \n",
    "    for i in range(1,n_generations):     \n",
    "        ### divide each species between two daughter cells ###        \n",
    "        for j in range(0,len(smod.data_stochsim.species_labels)): \n",
    "            species_amount = smod.SSA.sim_output[-2][1:][j]     \n",
    "            if species_amount:\n",
    "                smod.settings.X_matrix[j] = np.random.binomial(n=species_amount\n",
    "                                                               ,p=0.5,size=1)                \n",
    "        ### replace last time point with species amounts after division ###\n",
    "        species_after_division = copy.deepcopy(list(smod.settings.X_matrix))\n",
    "        species_after_division.insert(0,cell_division_times[0:i].sum())\n",
    "        species_after_division.append(np.NAN) # no reaction occurred at cell division\n",
    "        smod.SSA.sim_output[-1] = copy.deepcopy(species_after_division)                         \n",
    "        ### Set settings for new simulation and simulate the next generation ### \n",
    "        smod.settings.starttime = copy.deepcopy(smod.SSA.sim_output[-1][0])\n",
    "        smod.settings.endtime = smod.settings.starttime + cell_division_times[i]\n",
    "        smod.SSA.Execute(smod.settings,False) # do stochastic simulation     \n",
    "    smod.FillDataStochsim() # add all data to data_stochsim object"
   ]
  },
  {
   "cell_type": "code",
   "execution_count": 11,
   "metadata": {
    "colab": {},
    "colab_type": "code",
    "id": "lDLeDEiuKZaS"
   },
   "outputs": [],
   "source": [
    "import stochpy, numpy as np,copy,os,matplotlib.gridspec as gridspec\n",
    "import matplotlib as plt\n",
    "plt.rcParams.update({'figure.max_open_warning': 0})\n",
    "smod = stochpy.SSA(model_file='DBD_test.psc',dir='/Users/sebastianmoes/Documents/GitHub/iGem2020Uppsala/python_scripts/stochpy')\n",
    "T_GENERATION = 500"
   ]
  },
  {
   "cell_type": "code",
   "execution_count": null,
   "metadata": {
    "colab": {},
    "colab_type": "code",
    "id": "fFXVvD0ZP3gi"
   },
   "outputs": [
    {
     "name": "stdout",
     "output_type": "stream",
     "text": [
      "                                                   \r"
     ]
    }
   ],
   "source": [
    "### 2: Do long simulation for probability density function of protein copy numbers ###\n",
    "N_GENERATIONS = 1000\n",
    "CELL_DIVISION_TIMES = abs(np.random.gamma(T_GENERATION,1,size=N_GENERATIONS)) \n",
    "smod.DoStochSim(end=CELL_DIVISION_TIMES[0],mode='time',trajectories=10)\n",
    "doSequentialSim(smod,N_GENERATIONS,CELL_DIVISION_TIMES)\n",
    "smod.PlotSpeciesTimeSeries(species2plot=['dimer'])\n",
    "smod.PlotSpeciesTimeSeries(species2plot=['dimeractive'])\n",
    "smod.PlotSpeciesTimeSeries(species2plot=['dimerpromoter'])\n",
    "smod.PlotSpeciesTimeSeries(species2plot=['mRNA'])\n",
    "smod.PlotSpeciesTimeSeries(species2plot=['Protein'])\n",
    "smod.PlotSpeciesTimeSeries(species2plot=['MatureProtein'])"
   ]
  },
  {
   "cell_type": "code",
   "execution_count": null,
   "metadata": {},
   "outputs": [],
   "source": [
    "### 1: Do short looping simulations for a time series plot ###\n",
    "kdimerization = [3,6,9]\n",
    "kActivate = [1,5,10]\n",
    "kDNAbinding = [25,50,75]\n",
    "for i in kdimerization:\n",
    "  for j in kActivate:\n",
    "    for k in kDNAbinding:\n",
    "      print('simulation with kdimerization, kActivate, kDNAbinding =',i,', ',j,', ',k)\n",
    "      graphtitle = str('simulation with kdimerization, kActivate, kDNAbinding ='+str(i)+' '+str(j)+' '+str(k))\n",
    "      smod.ChangeParameter('kdimerization',i)\n",
    "      smod.ChangeParameter('kActivate',j)\n",
    "      smod.ChangeParameter('kDNAbinding',k)\n",
    "      N_GENERATIONS = 100\n",
    "      CELL_DIVISION_TIMES = abs(np.random.gamma(T_GENERATION,1,size=N_GENERATIONS)) \n",
    "      smod.DoStochSim(end=CELL_DIVISION_TIMES[0],mode='time',trajectories=10)\n",
    "      doSequentialSim(smod,N_GENERATIONS,CELL_DIVISION_TIMES)\n",
    "      smod.PlotSpeciesTimeSeries(species2plot=['mRNA'],title=graphtitle)\n",
    "      smod.PlotSpeciesTimeSeries(species2plot=['MatureProtein'],title=graphtitle)\n",
    "      print('done')"
   ]
  },
  {
   "cell_type": "code",
   "execution_count": null,
   "metadata": {},
   "outputs": [],
   "source": [
    "### Test a model with a time event\n",
    "smod.Model('DBD.psc') \n",
    "smod.DoStochSim(trajectories=1,end=1000,mode='time')\n",
    "smod.GetRegularGrid()\n",
    "smod.PlotAverageSpeciesTimeSeries()"
   ]
  },
  {
   "cell_type": "code",
   "execution_count": 8,
   "metadata": {},
   "outputs": [
    {
     "data": {
      "text/plain": [
       "'/Users/sebastianmoes/Documents/GitHub/iGem2020Uppsala/python_scripts/stochpy'"
      ]
     },
     "execution_count": 8,
     "metadata": {},
     "output_type": "execute_result"
    }
   ],
   "source": [
    "pwd"
   ]
  },
  {
   "cell_type": "code",
   "execution_count": null,
   "metadata": {},
   "outputs": [],
   "source": []
  }
 ],
 "metadata": {
  "colab": {
   "name": "DBD_stochpy.ipynb",
   "provenance": []
  },
  "kernelspec": {
   "display_name": "PyCharm (pythonProject)",
   "language": "python",
   "name": "pycharm-771eea23"
  },
  "language_info": {
   "codemirror_mode": {
    "name": "ipython",
    "version": 3
   },
   "file_extension": ".py",
   "mimetype": "text/x-python",
   "name": "python",
   "nbconvert_exporter": "python",
   "pygments_lexer": "ipython3",
   "version": "3.8.3"
  }
 },
 "nbformat": 4,
 "nbformat_minor": 1
}
