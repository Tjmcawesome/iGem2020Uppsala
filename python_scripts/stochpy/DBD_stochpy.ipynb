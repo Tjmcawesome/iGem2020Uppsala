{
 "cells": [
  {
   "cell_type": "code",
   "execution_count": 1,
   "metadata": {
    "colab": {
     "base_uri": "https://localhost:8080/",
     "height": 245
    },
    "colab_type": "code",
    "id": "Mlfmy5hIKmth",
    "outputId": "35a6def9-dc2b-4e8f-a0d9-1f8a1c0529d5"
   },
   "outputs": [],
   "source": [
    "#!pip install PySCeS\n",
    "#!pip install stochpy"
   ]
  },
  {
   "cell_type": "code",
   "execution_count": 2,
   "metadata": {
    "colab": {},
    "colab_type": "code",
    "id": "hV6a65jvKu8V"
   },
   "outputs": [
    {
     "name": "stdout",
     "output_type": "stream",
     "text": [
      "\n",
      "#######################################################################\n",
      "#                                                                     #\n",
      "#            Welcome to the interactive StochPy environment           #\n",
      "#                                                                     #\n",
      "#######################################################################\n",
      "#  StochPy: Stochastic modeling in Python                             #\n",
      "#  http://stochpy.sourceforge.net                                     #\n",
      "#  Copyright(C) T.R Maarleveld, B.G. Olivier, F.J Bruggeman 2010-2015 #\n",
      "#  DOI: 10.1371/journal.pone.0079345                                  #\n",
      "#  Email: tmd200@users.sourceforge.net                                #\n",
      "#  VU University, Amsterdam, Netherlands                              #\n",
      "#  Centrum Wiskunde Informatica, Amsterdam, Netherlands               #\n",
      "#  StochPy is distributed under the BSD licence.                      #\n",
      "#######################################################################\n",
      "\n",
      "Version 2.3.0\n",
      "Output Directory: /Users/sebastianmoes/Stochpy\n",
      "Model Directory: /Users/sebastianmoes/Stochpy/pscmodels\n"
     ]
    }
   ],
   "source": [
    "import stochpy"
   ]
  },
  {
   "cell_type": "code",
   "execution_count": 3,
   "metadata": {
    "colab": {},
    "colab_type": "code",
    "id": "cL0c_nHIKZZ4"
   },
   "outputs": [],
   "source": [
    "def doSequentialSim(smod,n_generations,cell_division_times):    \n",
    "    for i in range(1,n_generations):     \n",
    "        ### divide each species between two daughter cells ###        \n",
    "        for j in range(0,len(smod.data_stochsim.species_labels)): \n",
    "            species_amount = smod.SSA.sim_output[-2][1:][j]     \n",
    "            if species_amount:\n",
    "                smod.settings.X_matrix[j] = np.random.binomial(n=species_amount\n",
    "                                                               ,p=0.5,size=1)                \n",
    "        ### replace last time point with species amounts after division ###\n",
    "        species_after_division = copy.deepcopy(list(smod.settings.X_matrix))\n",
    "        species_after_division.insert(0,cell_division_times[0:i].sum())\n",
    "        species_after_division.append(np.NAN) # no reaction occurred at cell division\n",
    "        smod.SSA.sim_output[-1] = copy.deepcopy(species_after_division)                         \n",
    "        ### Set settings for new simulation and simulate the next generation ### \n",
    "        smod.settings.starttime = copy.deepcopy(smod.SSA.sim_output[-1][0])\n",
    "        smod.settings.endtime = smod.settings.starttime + cell_division_times[i]\n",
    "        smod.SSA.Execute(smod.settings,False) # do stochastic simulation     \n",
    "    smod.FillDataStochsim() # add all data to data_stochsim object"
   ]
  },
  {
   "cell_type": "code",
   "execution_count": 4,
   "metadata": {
    "colab": {},
    "colab_type": "code",
    "id": "lDLeDEiuKZaS"
   },
   "outputs": [
    {
     "name": "stdout",
     "output_type": "stream",
     "text": [
      "Warning: species \"matureProtein\" has not been initialised\n"
     ]
    }
   ],
   "source": [
    "import stochpy, numpy as np,copy,os,matplotlib.gridspec as gridspec\n",
    "import matplotlib as plt\n",
    "plt.rcParams.update({'figure.max_open_warning': 0})\n",
    "smod = stochpy.SSA(model_file='DBD_test.psc')\n",
    "T_GENERATION = 60"
   ]
  },
  {
   "cell_type": "code",
   "execution_count": 5,
   "metadata": {
    "colab": {},
    "colab_type": "code",
    "id": "fFXVvD0ZP3gi"
   },
   "outputs": [
    {
     "ename": "AssertionError",
     "evalue": "Error: StochPy detected (initial) negative species amounts.",
     "output_type": "error",
     "traceback": [
      "\u001B[0;31m---------------------------------------------------------------------------\u001B[0m",
      "\u001B[0;31mAssertionError\u001B[0m                            Traceback (most recent call last)",
      "\u001B[0;32m<ipython-input-5-3e5978601575>\u001B[0m in \u001B[0;36m<module>\u001B[0;34m\u001B[0m\n\u001B[1;32m      2\u001B[0m \u001B[0mN_GENERATIONS\u001B[0m \u001B[0;34m=\u001B[0m \u001B[0;36m100\u001B[0m\u001B[0;34m\u001B[0m\u001B[0;34m\u001B[0m\u001B[0m\n\u001B[1;32m      3\u001B[0m \u001B[0mCELL_DIVISION_TIMES\u001B[0m \u001B[0;34m=\u001B[0m \u001B[0mabs\u001B[0m\u001B[0;34m(\u001B[0m\u001B[0mnp\u001B[0m\u001B[0;34m.\u001B[0m\u001B[0mrandom\u001B[0m\u001B[0;34m.\u001B[0m\u001B[0mgamma\u001B[0m\u001B[0;34m(\u001B[0m\u001B[0mT_GENERATION\u001B[0m\u001B[0;34m,\u001B[0m\u001B[0;36m1\u001B[0m\u001B[0;34m,\u001B[0m\u001B[0msize\u001B[0m\u001B[0;34m=\u001B[0m\u001B[0mN_GENERATIONS\u001B[0m\u001B[0;34m)\u001B[0m\u001B[0;34m)\u001B[0m\u001B[0;34m\u001B[0m\u001B[0;34m\u001B[0m\u001B[0m\n\u001B[0;32m----> 4\u001B[0;31m \u001B[0msmod\u001B[0m\u001B[0;34m.\u001B[0m\u001B[0mDoStochSim\u001B[0m\u001B[0;34m(\u001B[0m\u001B[0mend\u001B[0m\u001B[0;34m=\u001B[0m\u001B[0mCELL_DIVISION_TIMES\u001B[0m\u001B[0;34m[\u001B[0m\u001B[0;36m0\u001B[0m\u001B[0;34m]\u001B[0m\u001B[0;34m,\u001B[0m\u001B[0mmode\u001B[0m\u001B[0;34m=\u001B[0m\u001B[0;34m'time'\u001B[0m\u001B[0;34m,\u001B[0m\u001B[0mtrajectories\u001B[0m\u001B[0;34m=\u001B[0m\u001B[0;36m10\u001B[0m\u001B[0;34m)\u001B[0m\u001B[0;34m\u001B[0m\u001B[0;34m\u001B[0m\u001B[0m\n\u001B[0m\u001B[1;32m      5\u001B[0m \u001B[0mdoSequentialSim\u001B[0m\u001B[0;34m(\u001B[0m\u001B[0msmod\u001B[0m\u001B[0;34m,\u001B[0m\u001B[0mN_GENERATIONS\u001B[0m\u001B[0;34m,\u001B[0m\u001B[0mCELL_DIVISION_TIMES\u001B[0m\u001B[0;34m)\u001B[0m\u001B[0;34m\u001B[0m\u001B[0;34m\u001B[0m\u001B[0m\n\u001B[1;32m      6\u001B[0m \u001B[0msmod\u001B[0m\u001B[0;34m.\u001B[0m\u001B[0mPlotSpeciesTimeSeries\u001B[0m\u001B[0;34m(\u001B[0m\u001B[0mspecies2plot\u001B[0m\u001B[0;34m=\u001B[0m\u001B[0;34m[\u001B[0m\u001B[0;34m'dimer'\u001B[0m\u001B[0;34m]\u001B[0m\u001B[0;34m)\u001B[0m\u001B[0;34m\u001B[0m\u001B[0;34m\u001B[0m\u001B[0m\n",
      "\u001B[0;32m~/PycharmProjects/pythonProject/venv/lib/python3.8/site-packages/stochpy/modules/StochSim.py\u001B[0m in \u001B[0;36mDoStochSim\u001B[0;34m(self, end, mode, method, trajectories, epsilon, IsTrackPropensities, rate_selection, species_selection, IsOnlyLastTimepoint, critical_reactions, reaction_orders, species_HORs, species_max_influence, quiet)\u001B[0m\n\u001B[1;32m    769\u001B[0m                 \u001B[0mself\u001B[0m\u001B[0;34m.\u001B[0m\u001B[0mSSA\u001B[0m\u001B[0;34m.\u001B[0m\u001B[0mExecute\u001B[0m\u001B[0;34m(\u001B[0m\u001B[0mself\u001B[0m\u001B[0;34m.\u001B[0m\u001B[0msettings\u001B[0m\u001B[0;34m,\u001B[0m\u001B[0mIsStatusBar\u001B[0m\u001B[0;34m,\u001B[0m\u001B[0mepsilon\u001B[0m\u001B[0;34m,\u001B[0m\u001B[0mcritical_reactions\u001B[0m\u001B[0;34m)\u001B[0m\u001B[0;34m\u001B[0m\u001B[0;34m\u001B[0m\u001B[0m\n\u001B[1;32m    770\u001B[0m             \u001B[0;32melse\u001B[0m\u001B[0;34m:\u001B[0m\u001B[0;34m\u001B[0m\u001B[0;34m\u001B[0m\u001B[0m\n\u001B[0;32m--> 771\u001B[0;31m                 \u001B[0mself\u001B[0m\u001B[0;34m.\u001B[0m\u001B[0mSSA\u001B[0m\u001B[0;34m.\u001B[0m\u001B[0mExecute\u001B[0m\u001B[0;34m(\u001B[0m\u001B[0mself\u001B[0m\u001B[0;34m.\u001B[0m\u001B[0msettings\u001B[0m\u001B[0;34m,\u001B[0m\u001B[0mIsStatusBar\u001B[0m\u001B[0;34m)\u001B[0m\u001B[0;34m\u001B[0m\u001B[0;34m\u001B[0m\u001B[0m\n\u001B[0m\u001B[1;32m    772\u001B[0m \u001B[0;34m\u001B[0m\u001B[0m\n\u001B[1;32m    773\u001B[0m             \u001B[0mself\u001B[0m\u001B[0;34m.\u001B[0m\u001B[0mdata_stochsim\u001B[0m \u001B[0;34m=\u001B[0m \u001B[0mIntegrationStochasticDataObj\u001B[0m\u001B[0;34m(\u001B[0m\u001B[0;34m)\u001B[0m\u001B[0;34m\u001B[0m\u001B[0;34m\u001B[0m\u001B[0m\n",
      "\u001B[0;32m~/PycharmProjects/pythonProject/venv/lib/python3.8/site-packages/stochpy/implementations/DirectMethod.py\u001B[0m in \u001B[0;36mExecute\u001B[0;34m(self, settings, IsStatusBar)\u001B[0m\n\u001B[1;32m     88\u001B[0m             \u001B[0mself\u001B[0m\u001B[0;34m.\u001B[0m\u001B[0mSetEvents\u001B[0m\u001B[0;34m(\u001B[0m\u001B[0;34m)\u001B[0m  \u001B[0;31m# April 15, moved into here, because otherwise each new cell division cycle starts with a time event, if specified\u001B[0m\u001B[0;34m\u001B[0m\u001B[0;34m\u001B[0m\u001B[0m\n\u001B[1;32m     89\u001B[0m             \u001B[0;32mif\u001B[0m \u001B[0;32mnot\u001B[0m \u001B[0msettings\u001B[0m\u001B[0;34m.\u001B[0m\u001B[0mIsOnlyLastTimepoint\u001B[0m\u001B[0;34m:\u001B[0m\u001B[0;34m\u001B[0m\u001B[0;34m\u001B[0m\u001B[0m\n\u001B[0;32m---> 90\u001B[0;31m                 \u001B[0mself\u001B[0m\u001B[0;34m.\u001B[0m\u001B[0mInitial_Conditions\u001B[0m\u001B[0;34m(\u001B[0m\u001B[0;34m)\u001B[0m\u001B[0;34m\u001B[0m\u001B[0;34m\u001B[0m\u001B[0m\n\u001B[0m\u001B[1;32m     91\u001B[0m \u001B[0;34m\u001B[0m\u001B[0m\n\u001B[1;32m     92\u001B[0m         \u001B[0mnstep_counter\u001B[0m \u001B[0;34m=\u001B[0m \u001B[0;36m1\u001B[0m\u001B[0;34m\u001B[0m\u001B[0;34m\u001B[0m\u001B[0m\n",
      "\u001B[0;32m~/PycharmProjects/pythonProject/venv/lib/python3.8/site-packages/stochpy/implementations/StochPyTools.py\u001B[0m in \u001B[0;36mInitial_Conditions\u001B[0;34m(self, IsTauleaping)\u001B[0m\n\u001B[1;32m    262\u001B[0m         \u001B[0moutput_init\u001B[0m \u001B[0;34m=\u001B[0m \u001B[0;34m[\u001B[0m\u001B[0mself\u001B[0m\u001B[0;34m.\u001B[0m\u001B[0msim_t\u001B[0m\u001B[0;34m]\u001B[0m\u001B[0;34m\u001B[0m\u001B[0;34m\u001B[0m\u001B[0m\n\u001B[1;32m    263\u001B[0m         \u001B[0;32mfor\u001B[0m \u001B[0minit\u001B[0m \u001B[0;32min\u001B[0m \u001B[0mself\u001B[0m\u001B[0;34m.\u001B[0m\u001B[0mX_matrix\u001B[0m\u001B[0;34m:\u001B[0m \u001B[0;31m# Output at t = 0\u001B[0m\u001B[0;34m\u001B[0m\u001B[0;34m\u001B[0m\u001B[0m\n\u001B[0;32m--> 264\u001B[0;31m             \u001B[0;32massert\u001B[0m \u001B[0minit\u001B[0m \u001B[0;34m>=\u001B[0m \u001B[0;36m0\u001B[0m\u001B[0;34m,\u001B[0m \u001B[0;34m\"Error: StochPy detected (initial) negative species amounts.\"\u001B[0m\u001B[0;34m\u001B[0m\u001B[0;34m\u001B[0m\u001B[0m\n\u001B[0m\u001B[1;32m    265\u001B[0m             \u001B[0moutput_init\u001B[0m\u001B[0;34m.\u001B[0m\u001B[0mappend\u001B[0m\u001B[0;34m(\u001B[0m\u001B[0mint\u001B[0m\u001B[0;34m(\u001B[0m\u001B[0minit\u001B[0m\u001B[0;34m)\u001B[0m\u001B[0;34m)\u001B[0m\u001B[0;34m\u001B[0m\u001B[0;34m\u001B[0m\u001B[0m\n\u001B[1;32m    266\u001B[0m \u001B[0;34m\u001B[0m\u001B[0m\n",
      "\u001B[0;31mAssertionError\u001B[0m: Error: StochPy detected (initial) negative species amounts."
     ]
    }
   ],
   "source": [
    "### 2: Do long simulation for probability density function of protein copy numbers ###\n",
    "N_GENERATIONS = 100\n",
    "CELL_DIVISION_TIMES = abs(np.random.gamma(T_GENERATION,1,size=N_GENERATIONS)) \n",
    "smod.DoStochSim(end=CELL_DIVISION_TIMES[0],mode='time',trajectories=10)\n",
    "doSequentialSim(smod,N_GENERATIONS,CELL_DIVISION_TIMES)\n",
    "smod.PlotSpeciesTimeSeries(species2plot=['dimer'])\n",
    "smod.PlotSpeciesTimeSeries(species2plot=['dimepromoter'])\n",
    "smod.PlotSpeciesTimeSeries(species2plot=['mRNA'])\n",
    "smod.PlotSpeciesTimeSeries(species2plot=['Protein'])"
   ]
  },
  {
   "cell_type": "code",
   "execution_count": null,
   "metadata": {
    "colab": {
     "base_uri": "https://localhost:8080/",
     "height": 104
    },
    "colab_type": "code",
    "id": "fWS8PyZiydXp",
    "outputId": "f08cc447-d1a3-4c61-f1a2-61ba11a50741"
   },
   "outputs": [],
   "source": [
    "### 1: Do short looping simulations for a time series plot ###\n",
    "kd = [1,2.5,5]\n",
    "k2 = [1,10,50]\n",
    "k3 = [0.1,0.5,1]\n",
    "for i in kd:\n",
    "  for j in k2:\n",
    "    for k in k3:\n",
    "      print('simulation with kd, k2, k3 =',i,', ',j,', ',k)\n",
    "      graphtitle = str('simulation with kd,2,3 ='+str(i)+' '+str(j)+' '+str(k))\n",
    "      smod.ChangeParameter('kd',i)\n",
    "      smod.ChangeParameter('k2',j)\n",
    "      smod.ChangeParameter('k3',k)\n",
    "      N_GENERATIONS = 10\n",
    "      CELL_DIVISION_TIMES = abs(np.random.gamma(T_GENERATION,1,size=N_GENERATIONS)) \n",
    "      smod.DoStochSim(end=CELL_DIVISION_TIMES[0],mode='time',trajectories=1)\n",
    "      doSequentialSim(smod,N_GENERATIONS,CELL_DIVISION_TIMES)\n",
    "      smod.PlotSpeciesTimeSeries(species2plot=['mRNA'],title=graphtitle)\n",
    "      smod.PlotSpeciesTimeSeries(species2plot=['Protein_mature'],title=graphtitle)\n",
    "      print('done')"
   ]
  },
  {
   "cell_type": "code",
   "execution_count": null,
   "metadata": {},
   "outputs": [],
   "source": []
  }
 ],
 "metadata": {
  "colab": {
   "name": "DBD_stochpy.ipynb",
   "provenance": []
  },
  "kernelspec": {
   "name": "pycharm-771eea23",
   "language": "python",
   "display_name": "PyCharm (pythonProject)"
  },
  "language_info": {
   "codemirror_mode": {
    "name": "ipython",
    "version": 3
   },
   "file_extension": ".py",
   "mimetype": "text/x-python",
   "name": "python",
   "nbconvert_exporter": "python",
   "pygments_lexer": "ipython3",
   "version": "3.7.3"
  }
 },
 "nbformat": 4,
 "nbformat_minor": 1
}