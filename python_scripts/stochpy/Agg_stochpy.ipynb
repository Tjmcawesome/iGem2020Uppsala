{
 "cells": [
  {
   "cell_type": "code",
   "execution_count": 2,
   "metadata": {
    "colab": {
     "base_uri": "https://localhost:8080/",
     "height": 245
    },
    "colab_type": "code",
    "id": "Mlfmy5hIKmth",
    "outputId": "35a6def9-dc2b-4e8f-a0d9-1f8a1c0529d5"
   },
   "outputs": [],
   "source": [
    "#!pip install PySCeS\n",
    "#!pip install stochpy"
   ]
  },
  {
   "cell_type": "code",
   "execution_count": 5,
   "metadata": {
    "colab": {},
    "colab_type": "code",
    "id": "hV6a65jvKu8V"
   },
   "outputs": [
    {
     "ename": "ModuleNotFoundError",
     "evalue": "No module named 'stochpy'",
     "output_type": "error",
     "traceback": [
      "\u001b[0;31m---------------------------------------------------------------------------\u001b[0m",
      "\u001b[0;31mModuleNotFoundError\u001b[0m                       Traceback (most recent call last)",
      "\u001b[0;32m<ipython-input-5-358c5c3fb220>\u001b[0m in \u001b[0;36m<module>\u001b[0;34m\u001b[0m\n\u001b[0;32m----> 1\u001b[0;31m \u001b[0;32mimport\u001b[0m \u001b[0mstochpy\u001b[0m\u001b[0;34m\u001b[0m\u001b[0;34m\u001b[0m\u001b[0m\n\u001b[0m",
      "\u001b[0;31mModuleNotFoundError\u001b[0m: No module named 'stochpy'"
     ]
    }
   ],
   "source": [
    "import stochpy"
   ]
  },
  {
   "cell_type": "code",
   "execution_count": 4,
   "metadata": {
    "colab": {},
    "colab_type": "code",
    "id": "cL0c_nHIKZZ4"
   },
   "outputs": [],
   "source": [
    "def doSequentialSim(smod,n_generations,cell_division_times):    \n",
    "    for i in range(1,n_generations):     \n",
    "        ### divide each species between two daughter cells ###        \n",
    "        for j in range(0,len(smod.data_stochsim.species_labels)): \n",
    "            species_amount = smod.SSA.sim_output[-2][1:][j]     \n",
    "            if species_amount:\n",
    "                smod.settings.X_matrix[j] = np.random.binomial(n=species_amount\n",
    "                                                               ,p=0.5,size=1)                \n",
    "        ### replace last time point with species amounts after division ###\n",
    "        species_after_division = copy.deepcopy(list(smod.settings.X_matrix))\n",
    "        species_after_division.insert(0,cell_division_times[0:i].sum())\n",
    "        species_after_division.append(np.NAN) # no reaction occurred at cell division\n",
    "        smod.SSA.sim_output[-1] = copy.deepcopy(species_after_division)                         \n",
    "        ### Set settings for new simulation and simulate the next generation ### \n",
    "        smod.settings.starttime = copy.deepcopy(smod.SSA.sim_output[-1][0])\n",
    "        smod.settings.endtime = smod.settings.starttime + cell_division_times[i]\n",
    "        smod.SSA.Execute(smod.settings,False) # do stochastic simulation     \n",
    "    smod.FillDataStochsim() # add all data to data_stochsim object"
   ]
  },
  {
   "cell_type": "code",
   "execution_count": 4,
   "metadata": {
    "colab": {},
    "colab_type": "code",
    "id": "lDLeDEiuKZaS"
   },
   "outputs": [],
   "source": [
    "import stochpy, numpy as np,copy,os,matplotlib.gridspec as gridspec\n",
    "import matplotlib as plt\n",
    "plt.rcParams.update({'figure.max_open_warning': 0})\n",
    "smod = stochpy.SSA(model_file='Agg_test.psc',dir='E:\\HXG\\igem2020upp\\stochastic model\\DBD Py')\n",
    "T_GENERATION = 60"
   ]
  },
  {
   "cell_type": "code",
   "execution_count": 5,
   "metadata": {
    "colab": {},
    "colab_type": "code",
    "id": "fFXVvD0ZP3gi"
   },
   "outputs": [
    {
     "data": {
      "image/png": "[encoded data removed]",
      "text/plain": [
       "<Figure size 432x288 with 1 Axes>"
      ]
     },
     "metadata": {
      "needs_background": "light"
     },
     "output_type": "display_data"
    },
    {
     "data": {
      "image/png": "[encoded data removed]",
      "text/plain": [
       "<Figure size 432x288 with 1 Axes>"
      ]
     },
     "metadata": {
      "needs_background": "light"
     },
     "output_type": "display_data"
    }
   ],
   "source": [
    "### 2: Do long simulation for probability density function of protein copy numbers ###\n",
    "N_GENERATIONS = 10\n",
    "CELL_DIVISION_TIMES = abs(np.random.gamma(T_GENERATION,1,size=N_GENERATIONS)) \n",
    "smod.DoStochSim(end=CELL_DIVISION_TIMES[0],mode='time',trajectories=1)\n",
    "doSequentialSim(smod,N_GENERATIONS,CELL_DIVISION_TIMES)\n",
    "smod.PlotSpeciesTimeSeries(species2plot=['Intimin'])\n",
    "smod.PlotSpeciesTimeSeries(species2plot=['Agg'])"
   ]
  },
  {
   "cell_type": "code",
   "execution_count": null,
   "metadata": {
    "colab": {
     "base_uri": "https://localhost:8080/",
     "height": 104
    },
    "colab_type": "code",
    "id": "fWS8PyZiydXp",
    "outputId": "f08cc447-d1a3-4c61-f1a2-61ba11a50741"
   },
   "outputs": [
    {
     "name": "stdout",
     "output_type": "stream",
     "text": [
      "simulation with Intimin = 0\n",
      "Parameters are: ['k1', 'k2']\n",
      "done\n",
      "simulation with Intimin = 5\n",
      "Parameters are: ['k1', 'k2']\n",
      "done\n",
      "simulation with Intimin = 10\n",
      "Parameters are: ['k1', 'k2']\n",
      "done\n",
      "simulation with Intimin = 20\n",
      "Parameters are: ['k1', 'k2']\n",
      "done\n",
      "simulation with Intimin = 50\n",
      "Parameters are: ['k1', 'k2']\n",
      "done\n",
      "                                                   \r"
     ]
    }
   ],
   "source": [
    "### 1: Do short looping simulations for a time series plot ###\n",
    "Intimin = [0,5,10,20,50]\n",
    "for i in Intimin:\n",
    "  print('simulation with Intimin =',i)\n",
    "  graphtitle = str('Intimin ='+str(i))\n",
    "  smod.ChangeParameter('Intimin',i)\n",
    "  N_GENERATIONS = 10\n",
    "  CELL_DIVISION_TIMES = abs(np.random.gamma(T_GENERATION,1,size=N_GENERATIONS)) \n",
    "  smod.DoStochSim(end=CELL_DIVISION_TIMES[0],mode='time',trajectories=1)\n",
    "  doSequentialSim(smod,N_GENERATIONS,CELL_DIVISION_TIMES)\n",
    "  smod.PlotSpeciesTimeSeries(species2plot=['Intimin'],title=graphtitle)\n",
    "  smod.PlotSpeciesTimeSeries(species2plot=['Agg'],title=graphtitle)\n",
    "  print('done')\n",
    "### Test a model with a time event\n",
    "smod.Model('Agg_test.psc') \n",
    "smod.DoStochSim(trajectories=1000,end=50,mode='time')\n",
    "smod.GetRegularGrid()\n",
    "smod.PlotAverageSpeciesTimeSeries()"
   ]
  },
  {
   "cell_type": "code",
   "execution_count": null,
   "metadata": {},
   "outputs": [],
   "source": []
  }
 ],
 "metadata": {
  "colab": {
   "name": "DBD_stochpy.ipynb",
   "provenance": []
  },
  "kernelspec": {
   "display_name": "Python 3",
   "language": "python",
   "name": "python3"
  },
  "language_info": {
   "codemirror_mode": {
    "name": "ipython",
    "version": 3
   },
   "file_extension": ".py",
   "mimetype": "text/x-python",
   "name": "python",
   "nbconvert_exporter": "python",
   "pygments_lexer": "ipython3",
   "version": "3.7.6"
  }
 },
 "nbformat": 4,
 "nbformat_minor": 1
}
